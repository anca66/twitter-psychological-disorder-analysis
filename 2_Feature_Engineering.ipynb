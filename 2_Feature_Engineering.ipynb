{
 "cells": [
  {
   "cell_type": "code",
   "execution_count": null,
   "metadata": {},
   "outputs": [],
   "source": [
    "import numpy as np\n",
    "import os\n",
    "import pandas as pd\n",
    "import matplotlib.pyplot as plt\n",
    "from tensorflow.keras.models import model_from_json\n",
    "import scipy.sparse as sp\n",
    "import joblib\n",
    "import pickle"
   ]
  },
  {
   "cell_type": "code",
   "execution_count": null,
   "metadata": {},
   "outputs": [],
   "source": [
    "df_test_wScalling = pd.read_csv('Dataset/Scaled_Test_Dataset.csv')\n",
    "df_test_wScalling.shape"
   ]
  },
  {
   "cell_type": "code",
   "execution_count": null,
   "metadata": {},
   "outputs": [],
   "source": [
    "df_test_wScalling.head()"
   ]
  },
  {
   "cell_type": "code",
   "execution_count": null,
   "metadata": {
    "scrolled": true
   },
   "outputs": [],
   "source": [
    "train_df_wScalling = pd.read_csv('Dataset/Scaled_Train_Dataset.csv', header=None)\n",
    "train_df_wScalling.head()"
   ]
  },
  {
   "cell_type": "code",
   "execution_count": null,
   "metadata": {},
   "outputs": [],
   "source": [
    "train_df_wScalling.shape"
   ]
  },
  {
   "cell_type": "code",
   "execution_count": null,
   "metadata": {},
   "outputs": [],
   "source": [
    "X_train = train_df_wScalling[train_df_wScalling.columns[1:301]].to_numpy()\n",
    "y_train = train_df_wScalling[train_df_wScalling.columns[0]].to_numpy()\n",
    "\n",
    "X_test = df_test_wScalling[df_test_wScalling.columns[1:301]].to_numpy()\n",
    "y_test = df_test_wScalling[df_test_wScalling.columns[0]].to_numpy()"
   ]
  },
  {
   "cell_type": "code",
   "execution_count": null,
   "metadata": {
    "scrolled": true
   },
   "outputs": [],
   "source": [
    "# X_train[0]\n",
    "X_train_s[0]\n",
    "# y_train[0]"
   ]
  },
  {
   "cell_type": "code",
   "execution_count": null,
   "metadata": {},
   "outputs": [],
   "source": [
    "import time\n",
    "from sklearn.metrics import classification_report, confusion_matrix, accuracy_score\n",
    "\n",
    " ## 0.8 Definirea  functiei de antrenare al modelului   \n",
    "def model(model,title,X_train,y_train, X_test, y_test):\n",
    "    classifier = model\n",
    "    ## Monitorizarea timpului de executie pentru fiecare model antrenat    \n",
    "    start = time.process_time()\n",
    "    trainedmodel=classifier.fit(X_train, y_train)\n",
    "    print(time.process_time() - start)\n",
    "    \n",
    "    y_pred = classifier.predict(X_test)\n",
    "    ## Afisarea valorii acuratetei modelului\n",
    "    print('Pentru modelul #', str(title) ,accuracy_score(y_test, y_pred))\n",
    "    print(classification_report(y_test, y_pred))\n",
    "\n",
    "    return trainedmodel"
   ]
  },
  {
   "cell_type": "code",
   "execution_count": null,
   "metadata": {
    "scrolled": true
   },
   "outputs": [],
   "source": [
    "from xgboost import XGBClassifier\n",
    "trainedXGB = model(XGBClassifier(max_depth=10, n_estimators=100, nthread= 3), 'XGB', X_train_s,y_train_s,X_test_s,y_test_s)"
   ]
  },
  {
   "cell_type": "code",
   "execution_count": null,
   "metadata": {},
   "outputs": [],
   "source": [
    "trainedXGB = model(XGBClassifier(max_depth=10, n_estimators=300, nthread= 1), 'XGB', X_train,y_train,X_test,y_test)"
   ]
  },
  {
   "cell_type": "code",
   "execution_count": null,
   "metadata": {},
   "outputs": [],
   "source": [
    "from sklearn.neighbors import NearestCentroid\n",
    "trainedRocchio = model(NearestCentroid(),'Rocchio',X_train,y_train,X_test,y_test)"
   ]
  },
  {
   "cell_type": "code",
   "execution_count": null,
   "metadata": {},
   "outputs": [],
   "source": [
    "trainedRocchio_s = model(NearestCentroid(),'Rocchio',X_train_s,y_train_s,X_test_s,y_test_s)"
   ]
  },
  {
   "cell_type": "code",
   "execution_count": null,
   "metadata": {},
   "outputs": [],
   "source": [
    "from sklearn.ensemble import ExtraTreesClassifier\n",
    "trained_ExtraTrees = model(ExtraTreesClassifier(n_estimators=80), 'Extra Trees', X_train_s,y_train_s,X_test_s,y_test_s)  "
   ]
  },
  {
   "cell_type": "code",
   "execution_count": null,
   "metadata": {},
   "outputs": [],
   "source": [
    "trained_ExtraTrees = model(ExtraTreesClassifier(n_estimators=80), 'Extra Trees',X_train,y_train,X_test,y_test)"
   ]
  },
  {
   "cell_type": "code",
   "execution_count": null,
   "metadata": {},
   "outputs": [],
   "source": [
    "trainedXGB_standard = model(XGBClassifier(), 'XGB standard', X_train,y_train,X_test,y_test)"
   ]
  },
  {
   "cell_type": "code",
   "execution_count": null,
   "metadata": {},
   "outputs": [],
   "source": [
    "trainedXGB_standard = model(XGBClassifier(), 'XGB standard', X_train_s,y_train_s,X_test_s,y_test_s)  "
   ]
  }
 ],
 "metadata": {
  "kernelspec": {
   "display_name": "Python 3",
   "language": "python",
   "name": "python3"
  },
  "language_info": {
   "codemirror_mode": {
    "name": "ipython",
    "version": 3
   },
   "file_extension": ".py",
   "mimetype": "text/x-python",
   "name": "python",
   "nbconvert_exporter": "python",
   "pygments_lexer": "ipython3",
   "version": "3.8.5"
  }
 },
 "nbformat": 4,
 "nbformat_minor": 4
}
